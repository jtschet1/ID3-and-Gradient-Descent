{
  "cells": [
    {
      "cell_type": "markdown",
      "metadata": {
        "id": "9wUL_Fy5qUDI"
      },
      "source": [
        "# UTSA CS 3793/5233: Assignment-3\n",
        "\n",
        "**Last Name - First Name - (abc123)**\n",
        "\n",
        "\n",
        "\n",
        "\n"
      ]
    },
    {
      "cell_type": "markdown",
      "metadata": {
        "id": "NM8b9KVYsETT"
      },
      "source": [
        "## Learning Objectives\n",
        "\n",
        "Implement 2 different machine learning algorithms\n",
        "*   Stochastic Gradient Descent\n",
        "*   ID3 Decision Tree\n"
      ]
    },
    {
      "cell_type": "code",
      "execution_count": 480,
      "metadata": {
        "colab": {
          "base_uri": "https://localhost:8080/"
        },
        "id": "eyTuVxWzTY7X",
        "outputId": "80f9703b-4135-45f7-dd58-3d9346ce5168"
      },
      "outputs": [],
      "source": [
        "#from google.colab import drive\n",
        "#drive.mount('/content/drive')"
      ]
    },
    {
      "cell_type": "markdown",
      "metadata": {
        "id": "LzR4Ic34zJlT"
      },
      "source": [
        "\n",
        "## Description\n",
        "\n",
        "This assignment is focused on **machine learning**, mainly on the implementation of 2 different algorithms - Stochastic Gradient Descent & ID3 decision tree. \n",
        "The assignment is divided into two sections, each for one unique ML algorithm. \n",
        "\n",
        "The base structure and comments are provided on what should be done. You can use some libraries that help support you for the successful completion of the assignment. However, you **CANNOT** use a complete library that contains the implementation of ML algorithms. You can get pieces of code from online, but please cite the source properly.\n"
      ]
    },
    {
      "cell_type": "markdown",
      "metadata": {
        "id": "vnPfmHAOteOI"
      },
      "source": [
        "##Import Libraries\n",
        "\n",
        "Write all the import statements here. This should be for both algorithm implmentations. As mentioned before, you can not use any premade ML libraries."
      ]
    },
    {
      "cell_type": "code",
      "execution_count": 481,
      "metadata": {
        "id": "f9apbZGptej6"
      },
      "outputs": [],
      "source": [
        "# import all required libraries\n",
        "import sys\n",
        "import pandas as pd\n",
        "import numpy as np\n",
        "from scipy.special import expit\n",
        "import matplotlib.pyplot as plt\n",
        "import copy\n",
        "import math"
      ]
    },
    {
      "cell_type": "code",
      "execution_count": 482,
      "metadata": {
        "id": "fdqXyFZ95P0j"
      },
      "outputs": [],
      "source": [
        "# Assume that the data files are in the following folder -- THIS WILL BE USED BY THE TA\n",
        "basePath = \"/content/drive/My Drive/Colab Notebooks/Artificial Intelligence/Data/\"\n"
      ]
    },
    {
      "cell_type": "code",
      "execution_count": 483,
      "metadata": {},
      "outputs": [],
      "source": [
        "basePath = \"./\""
      ]
    },
    {
      "cell_type": "markdown",
      "metadata": {
        "id": "YeYRnesWqvLm"
      },
      "source": [
        "#Stochastic Gradient Descent\n",
        "\n",
        "In this section, you will implement the Stochastic Gradient Descent algorithm. The training is for a **binary classification** task i.e. each instance will have a class value of 0 or 1. Also, assume that you are given **all binary-valued attributes** and that there are **no missing values** in the train or test data. \n"
      ]
    },
    {
      "cell_type": "markdown",
      "metadata": {
        "id": "IUVZIK6ctMi4"
      },
      "source": [
        "##Algorithm\n",
        "\n",
        "(40 points)\n",
        "\n",
        "Following are the data files that will be provided to you for the gradient descent algorithm implementation.\n",
        "\n",
        "*   Training file - 'gd-train.dat'\n",
        "*   Testing file - 'gd-test.dat'\n",
        "\n",
        "In these files, only non-space characters are relevant. The first line contains the attribute names. All the other lines are different example instances to be used for the algorithm. Each column holds values of the attributes, whereas the last column holds the class label for that instance.\n",
        "\n",
        "Write the code in the following code block, structure is provided. Instructions on the steps to follow are provided as comments.\n",
        "\n"
      ]
    },
    {
      "cell_type": "code",
      "execution_count": 484,
      "metadata": {
        "id": "2XoSqVJG5FkG"
      },
      "outputs": [],
      "source": [
        "# Data file name variables\n",
        "train = basePath + \"gd-train.dat\"\n",
        "test = basePath + \"gd-test.dat\"\n"
      ]
    },
    {
      "cell_type": "code",
      "execution_count": 485,
      "metadata": {
        "id": "l73PTZtCPdxj"
      },
      "outputs": [],
      "source": [
        "# Read the training and testing data files\n",
        "trainData = pd.read_csv(train, sep='\\t')\n",
        "testData = pd.read_csv(test, sep='\\t')"
      ]
    },
    {
      "cell_type": "code",
      "execution_count": 486,
      "metadata": {
        "id": "VN3FC2qcPfcR"
      },
      "outputs": [],
      "source": [
        "# Activation Function - implement Sigmoid\n",
        "def activation_function(h):\n",
        "    return expit(h)\n",
        "    "
      ]
    },
    {
      "cell_type": "code",
      "execution_count": 487,
      "metadata": {
        "id": "V5njAQvmPmOC"
      },
      "outputs": [],
      "source": [
        "# Train the model using the given training dataset and the learning rate\n",
        "# return the \"weights\" learnt for the perceptron - include the weight assocaited with bias as the last entry\n",
        "def train(trainData, learning_rate=0.05):\n",
        "  # initialize weights to 0\n",
        "  weights = np.zeros(trainData.shape[1])\n",
        "  # go through each training data instance\n",
        "  for i in range(len(trainData)):\n",
        "    # get 'x' as one multi-variate data instance and 'y' as the ground truth class label\n",
        "    row = trainData.iloc[i].values.tolist()\n",
        "    x = row[0:13]\n",
        "    x.append(1)\n",
        "    y = row[13]\n",
        "    # obtain h(x)\n",
        "    h = np.dot(x, weights)\n",
        "    # call the activation function with 'h' as parameter to obtain 'z'\n",
        "    z = activation_function(h)\n",
        "    # update all weights individually using learning_rate, (y-z), and the corresponding 'x'\n",
        "    for j in range(len(weights)):\n",
        "      weights[j] += learning_rate * (y-z) * x[j]\n",
        "  # return the final learnt weights\n",
        "  return weights"
      ]
    },
    {
      "cell_type": "code",
      "execution_count": 488,
      "metadata": {
        "id": "Gx98kNxDPq5B"
      },
      "outputs": [],
      "source": [
        "# Test the model (weights learnt) using the given test dataset\n",
        "# return the accuracy value\n",
        "def test(test_data, weights, threshold):\n",
        "  # go through each testing data instance\n",
        "  correct = 0\n",
        "  incorrect = 0\n",
        "  #print(type(test_data), len(test_data), len(weights))\n",
        "  for i in range(len(test_data)):\n",
        "    # get 'x' as one multi-variate data instance and 'y' as the ground truth class label\n",
        "    row = test_data.iloc[i].values.tolist()\n",
        "    x = row[0:13]\n",
        "    x.append(1)\n",
        "    y = row[13]\n",
        "    # obtain h(x)\n",
        "    h = np.dot(x, weights)\n",
        "    # call the activation function with 'h' as parameter to obtain 'z'\n",
        "    z = activation_function(h)\n",
        "    # use 'threshold' to convert 'z' to either 0 or 1 so as to match to the ground truth binary labels\n",
        "    z = 1 if z >= threshold else 0\n",
        "    # compare the thresholded 'z' with 'y' to calculate the positive and negative instances for calculating accuracy\n",
        "    if z == y:\n",
        "      correct += 1\n",
        "    else:\n",
        "      incorrect += 1\n",
        "    #print(\"Row\",i,\"After rounding\",h,z,y)\n",
        "  # return the accuracy value for the given test dataset\n",
        "  \n",
        "  return correct / (correct + incorrect)\n",
        "    "
      ]
    },
    {
      "cell_type": "code",
      "execution_count": 489,
      "metadata": {
        "id": "_5B6IG0APxH4"
      },
      "outputs": [],
      "source": [
        "# Gradient Descent function\n",
        "def gradient_descent(df_train, df_test, learning_rate=0.05, threshold=0.5):\n",
        "    # call the train function to train the model and obtain the weights\n",
        "    trainWeights = train(df_train, learning_rate)\n",
        "    # call the test function with the training dataset to obtain the training accuracy\n",
        "    trainAccuracy = test(df_train, trainWeights, threshold)\n",
        "    # call the test function with the testing dataset to obtain the testing accuracy\n",
        "    testAccuracy = test(df_test, trainWeights, threshold)\n",
        "    # return (trainAccuracy, testAccuracy)\n",
        "    return trainAccuracy, testAccuracy"
      ]
    },
    {
      "cell_type": "code",
      "execution_count": 490,
      "metadata": {
        "id": "MB_b5ButP3w3"
      },
      "outputs": [],
      "source": [
        "# Threshold of 0.5 will be used to classify the instance for the test. If the value is >= 0.5, classify as 1 or else 0.\n",
        "threshold = 0.5\n",
        "#train(trainData)\n"
      ]
    },
    {
      "cell_type": "code",
      "execution_count": 491,
      "metadata": {
        "colab": {
          "base_uri": "https://localhost:8080/"
        },
        "id": "YdPwgSBOtb1P",
        "outputId": "77c9cb14-14e4-4b43-b396-e77fb2221855"
      },
      "outputs": [],
      "source": [
        "# Main algorithm loop\n",
        "# Loop through all the different learning rates [0.05, 1]\n",
        "    # For each learning rate selected, call the gradient descent function to obtain the train and test accuracy values\n",
        "    # Print both the accuracy values as \"Accuracy for LR of 0.1 on Training set = x %\" OR \"Accuracy for LR of 0.1 on Testing set = x %\"\n",
        "learningRates = [.05, .10, .15 , .20, .25, .30, .35, .40, .45, .50, .55, .60, .65, .70, .75, .80, .85, .90, .95, 1]\n",
        "lr2 = [.05]\n",
        "trainResults = []\n",
        "testResults = []\n",
        "for lr in learningRates:\n",
        "  results = gradient_descent(trainData, testData, lr)\n",
        "  trainResults.append(results[0])\n",
        "  testResults.append(results[1])\n",
        "  print(\"Test with learning rate:\",lr)\n",
        "  print(\"trainAccuracy: \", results[0])\n",
        "  print(\"testAccuracy: \",results[1])\n",
        "  print(\"***************************\")\n",
        "  print()"
      ]
    },
    {
      "cell_type": "markdown",
      "metadata": {
        "id": "lYxmgcnes9cS"
      },
      "source": [
        "##Extra Credit - Accuracy Plots\n",
        "\n",
        "(05 points)\n",
        "\n",
        "Use the above accuracy results on the training and testing data and write code to plot the graphs as mentioned in the code block below.\n",
        "\n"
      ]
    },
    {
      "cell_type": "code",
      "execution_count": 492,
      "metadata": {
        "colab": {
          "base_uri": "https://localhost:8080/",
          "height": 573
        },
        "id": "fbBNakSDq0Wv",
        "outputId": "9d5d20b2-97b4-444d-b250-632f76f2cc04"
      },
      "outputs": [
        {
          "data": {
            "image/png": "[encoded data removed]",
            "text/plain": [
              "<Figure size 432x288 with 1 Axes>"
            ]
          },
          "metadata": {
            "needs_background": "light"
          },
          "output_type": "display_data"
        },
        {
          "data": {
            "image/png": "[encoded data removed]",
            "text/plain": [
              "<Figure size 432x288 with 1 Axes>"
            ]
          },
          "metadata": {
            "needs_background": "light"
          },
          "output_type": "display_data"
        }
      ],
      "source": [
        "# Plot the graphs for accuracy results.\n",
        "# There will be 2 graphs - one for training data and the other for testing data\n",
        "# For each graph,\n",
        "    # X-axis will be the learning rate going from 0.05-1 in increments on 0.05\n",
        "    # Y-axis will be the accuracy values at the selected learning rate.\n",
        "plt.plot(learningRates, trainResults, label='Training Accuracy')\n",
        "plt.xlabel('Learning Rate')\n",
        "plt.ylabel('Accuracy')\n",
        "plt.title('Train Data')\n",
        "plt.show()\n",
        "\n",
        "plt.plot(learningRates, testResults, label='Test Accuracy')\n",
        "plt.xlabel('Learning Rate')\n",
        "plt.ylabel('Accuracy')\n",
        "plt.title('Test Data')\n",
        "plt.show()\n"
      ]
    },
    {
      "cell_type": "markdown",
      "metadata": {
        "id": "onnqJYTEq0l3"
      },
      "source": [
        "#ID3 Decision Tree\n",
        "\n",
        "In this section, you will implement the ID3 Decision Tree algorithm. The training is for a **binary classification** task i.e. each instance will have a class value of 0 or 1. Also, assume that there are **no missing values** in the train or test data. \n"
      ]
    },
    {
      "cell_type": "markdown",
      "metadata": {
        "id": "eDNztBkTtRPw"
      },
      "source": [
        "## Algorithm\n",
        "\n",
        "(85 points)\n",
        "\n",
        "Following are the data files that will be provided to you for the ID3 algorithm implementation.\n",
        "\n",
        "*   Training file - 'id3-train.dat'\n",
        "*   Testing file - 'id3-test.dat'\n",
        "\n",
        "In these files, only non-space characters are relevant. The first line contains the attribute names. All the other lines are example instances to be used for the algorithm. Each column holds values of the attributes, whereas the last column holds the class label for that instance.\n",
        "\n",
        "In a decision tree, if you reach a leaf node but still have examples that belong to different classes, then choose the most frequent class (among the instances at the leaf node). If you reach a leaf node in the decision tree and have no examples left or the examples are equally split among multiple classes, then choose the class that is most frequent in the entire training set. You do not need to implement pruning. Also, don’t forget to use logarithm base 2 when computing entropy and set (0 log 0) to 0.\n",
        "\n",
        "Write the code in the following code block, structure is provided. Instructions on the steps to follow are provided as comments. The code should output the following 3 things:\n",
        "\n",
        "*   Print the Decision Tree created, in the following example format:\n",
        "\n",
        "    ```\n",
        "    attr1 = 0 :\n",
        "        attr2 = 0 :\n",
        "            attr3 = 0 : 1 -- 4\n",
        "            attr3 = 1 : 0 -- 9\n",
        "        attr2 = 1 :\n",
        "            attr4 = 0 : 0 -- 2\n",
        "            attr4 = 1 : 1 -- 10\n",
        "    attr1 = 1 :\n",
        "        attr2 = 1 : 1 -- 17\n",
        "\n",
        "    ```\n",
        "\n",
        "*   Accuracy on the Training data = x %\n",
        "*   Accuracy on the Test data = x %\n",
        "\n",
        "\n",
        "\n"
      ]
    },
    {
      "cell_type": "code",
      "execution_count": 493,
      "metadata": {
        "id": "wTLz1lGYQJKS"
      },
      "outputs": [],
      "source": [
        "# Data file name variables\n",
        "train = basePath + \"id3-train.dat\"\n",
        "test = basePath + \"id3-test.dat\""
      ]
    },
    {
      "cell_type": "code",
      "execution_count": 494,
      "metadata": {
        "id": "rV4gCO4rhcLF"
      },
      "outputs": [],
      "source": [
        "#Tree Node\n",
        "class Node:\n",
        "  def __init__(self, parent=None):\n",
        "    #which attr we need to split on, aka what we decided is the maxIG last node\n",
        "    self.attr = None\n",
        "    #children of this node, which are all the values of the feature\n",
        "    self.children=[]\n",
        "    #which class value the feature corresponds to, either pure or majority\n",
        "    self.label = None\n",
        "    #value of parent's attribute\n",
        "    self.splitVal = None\n",
        "    # the number of instances of the current feature with the split val specified by the parent\n",
        "    self.count = None\n",
        "    # the parent node\n",
        "    self.parent = None\n",
        "\n",
        "\n",
        "  "
      ]
    },
    {
      "cell_type": "code",
      "execution_count": 495,
      "metadata": {
        "id": "61DZovBjpusU"
      },
      "outputs": [],
      "source": [
        "def dataEntropy(data, classLabel, classes):\n",
        "  numInstances = data.shape[0]\n",
        "  entropy = 0\n",
        "\n",
        "  for c in classes:\n",
        "    classCount = data[data[classLabel] == c].shape[0]\n",
        "    classEntropy = - (classCount/numInstances)*np.log2(classCount/numInstances)\n",
        "    entropy += classEntropy\n",
        "  return entropy"
      ]
    },
    {
      "cell_type": "code",
      "execution_count": 496,
      "metadata": {
        "id": "FAlMyU1tuHcc"
      },
      "outputs": [],
      "source": [
        "def featureEntropy(data, classLabel, classes):\n",
        "  count = data.shape[0]\n",
        "  entropy = 0\n",
        "\n",
        "  for c in classes:\n",
        "    label_class_count = data[data[classLabel] == c].shape[0]\n",
        "    entropy_class = 0\n",
        "    if label_class_count != 0:\n",
        "        probability_class = label_class_count/count\n",
        "        entropy_class = - probability_class * np.log2(probability_class)\n",
        "    entropy += entropy_class\n",
        "  return entropy"
      ]
    },
    {
      "cell_type": "code",
      "execution_count": 497,
      "metadata": {
        "id": "7ysjSSVPyed6"
      },
      "outputs": [],
      "source": [
        "def informationGain(featureName, trainData, classLabel, classes):\n",
        "  features = trainData[featureName].unique() \n",
        "  numInstances = trainData.shape[0]\n",
        "  featureInfo = 0.0\n",
        "  \n",
        "  for feature in features:\n",
        "      featureData = trainData[trainData[featureName] == feature]\n",
        "      numFeatureInstances = featureData.shape[0]\n",
        "      currentEntropy = featureEntropy(featureData, classLabel, classes) \n",
        "      featureProbability = numFeatureInstances/numInstances\n",
        "      featureInfo += featureProbability * currentEntropy \n",
        "\n",
        "  return dataEntropy(trainData, classLabel, classes) - featureInfo"
      ]
    },
    {
      "cell_type": "code",
      "execution_count": 498,
      "metadata": {
        "id": "EUJVcr5hBArb"
      },
      "outputs": [],
      "source": [
        "def findMaxIG(trainData, label, classes, features):\n",
        "  max = -1\n",
        "  maxFeature = None\n",
        "  \n",
        "  for feature in features:\n",
        "      currentFeatureGain = informationGain(feature, trainData, label, classes)\n",
        "      if max < currentFeatureGain:\n",
        "          max = currentFeatureGain\n",
        "          maxFeature = feature\n",
        "\n",
        "  return maxFeature"
      ]
    },
    {
      "cell_type": "code",
      "execution_count": 499,
      "metadata": {
        "id": "8yO_m6apVtw5"
      },
      "outputs": [],
      "source": [
        "# get the majority feature label\n",
        "def majorityLabel(data):\n",
        "    # get the class labels\n",
        "    labels = data['class'].unique()\n",
        "    # initialize the majority label to None\n",
        "    majority_label = labels[0]\n",
        "    majCount = 0\n",
        "    # go through each class label\n",
        "    for label in labels:\n",
        "        # get the count of the class label\n",
        "        count = len(data[data['class']==label])\n",
        "        # if the count is greater than the majority label update the majority label\n",
        "        if count > majCount:\n",
        "            majority_label = label\n",
        "            majCount = count\n",
        "    # return the majority label\n",
        "    return majority_label"
      ]
    },
    {
      "cell_type": "code",
      "execution_count": 500,
      "metadata": {
        "id": "z3oWtqThY3lr"
      },
      "outputs": [],
      "source": [
        "def printTree(root, level=0):\n",
        "    # if the node is a leaf node\n",
        "    tab = '\\t' * level\n",
        "    if root.attr is None:\n",
        "        for child in root.children:\n",
        "            printTree(child, level + 1)\n",
        "    elif root.children == []:\n",
        "        print(tab,root.attr, \"=\", root.splitVal, \":\", root.label, \"--\", root.count)\n",
        "    else:\n",
        "        print(tab,root.attr, \"=\", root.splitVal, \":\")\n",
        "        for child in root.children:\n",
        "            printTree(child, level + 1)"
      ]
    },
    {
      "cell_type": "code",
      "execution_count": 501,
      "metadata": {},
      "outputs": [],
      "source": [
        "#data = a single instance from the data set\n",
        "#root = the current node\n",
        "def predictInstance(data, root):\n",
        "    #if node doesn't have attribute, it's the root node, so go into the next one\n",
        "    if root.attr == None:\n",
        "        return predictInstance(data, root.children[0])\n",
        "\n",
        "    #if root has a label, it's a leaf node. If that label == the instance class, then the prediction is correct\n",
        "    if root.label != None:\n",
        "        if root.label == (data['class'].values)[0]:\n",
        "            return 1\n",
        "        else:\n",
        "            return 0\n",
        "    #node is not a leaf node, meaning we don't have a label\n",
        "    #the value of the column in the row is the child we need to enter\n",
        "    #we need to check the value of the current attribute in the row\n",
        "    splitVal = (data[root.attr].values)[0]\n",
        "\n",
        "\n",
        "    #find which child represents that value, traverse to it.\n",
        "    for child in root.children:\n",
        "        if child.splitVal == splitVal:\n",
        "            return predictInstance(data, child)\n",
        "\n",
        "    return predictInstance(data, root.children[0])"
      ]
    },
    {
      "cell_type": "code",
      "execution_count": 502,
      "metadata": {},
      "outputs": [],
      "source": [
        "# evaluate the prediction accuracy of the decision tree\n",
        "def evaluate(root, data):\n",
        "    # get the class labels\n",
        "    labels = data['class'].unique()\n",
        "    # initialize the prediction accuracy to 0\n",
        "    correct = 0\n",
        "    wrong = 0\n",
        "    # go through each class label\n",
        "    for i, row in data.iterrows():\n",
        "        # get the count of the class label\n",
        "        label = row['class']\n",
        "        result = predict(root.children[0], row)\n",
        "        result2 = predict(root.children[1], row)\n",
        "\n",
        "        if result == label or result2 == label:\n",
        "            correct += 1\n",
        "        else:\n",
        "            wrong += 1\n",
        "\n",
        "    prediction_accuracy = correct / (correct + wrong)\n",
        "    # return the prediction accuracy\n",
        "    return prediction_accuracy"
      ]
    },
    {
      "cell_type": "code",
      "execution_count": 503,
      "metadata": {},
      "outputs": [],
      "source": [
        "def predict(root, data):\n",
        "    new_root = None\n",
        "    if root.label is not None:\n",
        "        return root.label\n",
        "    splitVal = data[root.attr]\n",
        "    for child in root.children:\n",
        "        if child.splitVal == splitVal:\n",
        "            new_root = child\n",
        "            break\n",
        "\n",
        "    if new_root is None:\n",
        "        new_root = root.children[0]\n",
        "    return predict(new_root, data)"
      ]
    },
    {
      "cell_type": "code",
      "execution_count": 504,
      "metadata": {
        "id": "HwHYC6xjQP5D"
      },
      "outputs": [],
      "source": [
        "#Pseudocode for the ID3 algorithm. Use this to create function(s).\n",
        "def ID3(data, root, attributesRemaining):\n",
        "  # If you reach a leaf node in the decision tree and have no examples left or the examples are equally split among multiple classes\n",
        "  if len(data)==0:\n",
        "      # Choose and the class that is most frequent in the entire training set and return the updated tree\n",
        "      root.label = majorityLabel(data)\n",
        "      return\n",
        "  # If all the instances have only one class label aka pure class\n",
        "  labels = data['class'].unique()\n",
        "  if len(labels)==1:\n",
        "      # Make this as the leaf node and use the label as the class value of the node and return the updated tree\n",
        "      root.label = labels[0]\n",
        "      return\n",
        "  # If you reached a leaf node but still have examples that belong to different classes (there are no remaining attributes to be split)\n",
        "  if len(attributesRemaining)==0:\n",
        "    #print(\"Majority\",root.attr)\n",
        "    # Assign the most frequent class among the instances at the leaf node and return the updated tree\n",
        "    root.label = majorityLabel(data)\n",
        "    return\n",
        "  # Find the best attribute to split by calculating the maximum information gain from the attributes remaining by calculating the entropy\n",
        "  classLabel = data.columns[-1]\n",
        "  classes = labels\n",
        "  bestAttr = findMaxIG(data,classLabel,classes,attributesRemaining)\n",
        "  #root.attr = bestAttr\n",
        "  attributesRemaining.remove(bestAttr)\n",
        "  # Split the tree using the best attribute and recursively call the ID3 function using DFS to fill the sub-tree\n",
        "  bestAttrValues = data[bestAttr].unique().tolist()\n",
        "  bestAttrValues.sort()\n",
        "  \n",
        "  for value in bestAttrValues:\n",
        "    subdata = data[data[bestAttr]==value]\n",
        "    childNode = Node(parent=root)\n",
        "    childNode.attr = bestAttr\n",
        "    childNode.splitVal = value\n",
        "    childNode.count = len(subdata)\n",
        "    root.children.append(childNode)\n",
        "    arCopy = copy.deepcopy(attributesRemaining)\n",
        "    ID3(subdata, childNode, arCopy)\n",
        "    #return the root as the tree\n",
        "  return"
      ]
    },
    {
      "cell_type": "code",
      "execution_count": 505,
      "metadata": {
        "colab": {
          "base_uri": "https://localhost:8080/"
        },
        "id": "XELGzRDftS77",
        "outputId": "30f98027-3b10-40fb-9b15-ecdd2756fbde"
      },
      "outputs": [],
      "source": [
        "#from pandas._libs.lib import to_object_array_tuples\n",
        "# Following is the base code structure. Feel free to change the code structure as you see fit, maybe even create more functions.\n",
        "\n",
        "train = basePath + \"id3-train.dat\"\n",
        "test = basePath + \"id3-test.dat\"\n",
        "\n",
        "file_path = 'Johann_output.txt'\n",
        "sys.stdout = open(file_path, \"w\")\n",
        "\n",
        "# Read the first line in the training data file, to get the number of attributes\n",
        "trainData = pd.read_csv(train, sep='\\t')\n",
        "testData = pd.read_csv(test, sep='\\t')\n",
        "trainAttributes = list(trainData)[0:-1]\n",
        "testAttributes = list(testData)[0:-1]\n",
        "# Read all the training instances and the ground truth class labels.\n",
        "classes = [1,0]\n",
        "totalEntropy = dataEntropy(trainData, 'class', classes)\n",
        "\n",
        "trainRoot = Node()\n",
        "# Create the decision tree by implementing the ID3 algorithm. Pseudocode provided above.\n",
        "ID3(trainData, trainRoot, trainAttributes)\n",
        "\n",
        "testRoot = Node()\n",
        "ID3(testData, testRoot, testAttributes)\n",
        "\n",
        "\n",
        "\n",
        "# Print the tree in the example format mentioned.\n",
        "printTree(trainRoot)\n",
        "#printTree(testRoot)\n",
        "# Use the above created tree to predict the training data and print the accuracy as \"Accuracy on the Training data = x %\"\n",
        "\n",
        "    # For each training instance, predict the output label\n",
        "    \n",
        "trainAccuracy=0\n",
        "for i in range(len(trainData)):\n",
        "    row = trainData.iloc[[i]]\n",
        "    trainAccuracy += predictInstance(row, trainRoot)\n",
        "trainAccuracy = trainAccuracy / len(trainData)\n",
        "\n",
        "    # Compare it with the ground truth class label and calculate the accuracy accordingly\n",
        "# Use the above created tree to predict the testing data and print the accuracy as \"Accuracy on the Test data = x %\"\n",
        "    # For each testing instance, predict the output label\n",
        "\n",
        "testAccuracy = 0\n",
        "i=0\n",
        "for i in range(len(testData)):\n",
        "    row = testData.iloc[[i]]\n",
        "    testAccuracy += predictInstance(row, testRoot)\n",
        "testAccuracy = testAccuracy / len(testData)\n",
        "    # Compare it with the ground truth class label and calculate the accuracy accordingly\n",
        "trainAccuracy = evaluate(trainRoot, trainData)\n",
        "testAccuracy = evaluate(testRoot, testData)\n",
        "print()\n",
        "print(\"Accuracy on the Train data == \",trainAccuracy)\n",
        "print(\"Accuracy on the Test data == \",testAccuracy)"
      ]
    },
    {
      "cell_type": "markdown",
      "metadata": {
        "id": "YvYowzzA4vcd"
      },
      "source": [
        "##Extra Credit - Learning Curve\n",
        "\n",
        "(05 points)\n",
        "\n",
        "Instead of taking the entire training data (all 800 instances), loop through to select 'x' instances in the increments of 40 (i.e. 40, 80, 120, and so on). For each selected number 'x', randomly pick the example instances from the training data and call the ID3 function to create the decision tree. Calculate the accuracy of the created ID3 tree on the Test data file. Plot the corresponding graph, aka Learning Curve.\n"
      ]
    },
    {
      "cell_type": "code",
      "execution_count": 506,
      "metadata": {
        "id": "FYSK99zp5a7H"
      },
      "outputs": [],
      "source": [
        "# Loop through to select the number of instances 'x' in increments of 40\n",
        "# For each 'x',\n",
        "    # Randomly select 'x' instances\n",
        "    # Create the ID3 decision tree using those instances\n",
        "    # Calculate the accuracy of the ID3 tree created on the Test data\n",
        "\n",
        "# Plot the learning curve using the accuracy values\n",
        "    # X-axis will be the number of training instances used for creating the tree\n",
        "    # Y-axis will be the accuracy in % on the Test data\n",
        "\n"
      ]
    },
    {
      "cell_type": "markdown",
      "metadata": {
        "id": "YJSFgNBQrhQU"
      },
      "source": [
        "#Submission Instructions\n",
        "\n",
        "1.   Complete all tasks above - **File MUST contain the output for ALL cells**\n",
        "2.   Export this notebook as .ipynb\n",
        "      (File > Download as ipynb)\n",
        "3.   Upload the .ipynb file on Blackboard"
      ]
    },
    {
      "cell_type": "markdown",
      "metadata": {
        "id": "0lGvLE9H6ptL"
      },
      "source": [
        "##Rubric\n",
        "\n",
        "*   (40 points) Gradient Descent Algorithm\n",
        "*   (05 points) Extra Credit - GD Accuracy Plots\n",
        "*   (85 points) ID3 Algorithm\n",
        "*   (05 points) Extra Credit - ID3 Learning Curve\n"
      ]
    }
  ],
  "metadata": {
    "colab": {
      "collapsed_sections": [],
      "name": "CS3793_5233_assignment3_abc123.ipynb",
      "provenance": []
    },
    "kernelspec": {
      "display_name": "Python 3",
      "name": "python3"
    },
    "language_info": {
      "codemirror_mode": {
        "name": "ipython",
        "version": 3
      },
      "file_extension": ".py",
      "mimetype": "text/x-python",
      "name": "python",
      "nbconvert_exporter": "python",
      "pygments_lexer": "ipython3",
      "version": "3.8.8"
    }
  },
  "nbformat": 4,
  "nbformat_minor": 0
}
